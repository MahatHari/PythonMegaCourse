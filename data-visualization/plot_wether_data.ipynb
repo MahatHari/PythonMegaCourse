{
 "cells": [
  {
   "cell_type": "code",
   "execution_count": 7,
   "metadata": {},
   "outputs": [],
   "source": [
    "# imports\n",
    "from bokeh.plotting import figure, show, output_file\n",
    "import pandas\n",
    "\n",
    "\n",
    "# read csv file with pandas\n",
    "\n",
    "data_frame= pandas.read_excel(\"verlegenhuken.xlsx\", sheet_name=0)\n",
    "\n",
    "temperature= data_frame.Temperature/10\n",
    "pressure= data_frame.Pressure/10\n",
    "\n",
    "# create output file\n",
    "\n",
    "output_file('plotting_weather_data.html')\n",
    "\n",
    "f=figure(title=\"Temperature and Air Pressure\", x_axis_label='Temperature ℃', y_axis_label='Pressure (hPa)')\n",
    "\n",
    "# figure properties can be changed also as\n",
    "#f.title.text=\"Temperature and Air Pressure\"\n",
    "f.title.text_color=\"Gray\"\n",
    "f.title.text_font=\"times\"\n",
    "f.title.text_font_style=\"bold\"\n",
    "\n",
    "#f.xaxis.axis_label=\"Temperature\"\n",
    "#f.yaxis.axis_label=\"Pressure\"\n",
    "f.circle(temperature, pressure, color=\"blue\", size=2)\n",
    "\n",
    "show(f)\n"
   ]
  }
 ],
 "metadata": {
  "kernelspec": {
   "display_name": "Python 3.10.0 64-bit",
   "language": "python",
   "name": "python3"
  },
  "language_info": {
   "codemirror_mode": {
    "name": "ipython",
    "version": 3
   },
   "file_extension": ".py",
   "mimetype": "text/x-python",
   "name": "python",
   "nbconvert_exporter": "python",
   "pygments_lexer": "ipython3",
   "version": "3.10.0"
  },
  "orig_nbformat": 4,
  "vscode": {
   "interpreter": {
    "hash": "aee8b7b246df8f9039afb4144a1f6fd8d2ca17a180786b69acc140d282b71a49"
   }
  }
 },
 "nbformat": 4,
 "nbformat_minor": 2
}
