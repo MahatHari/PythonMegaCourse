{
 "cells": [
  {
   "cell_type": "code",
   "execution_count": 4,
   "metadata": {},
   "outputs": [],
   "source": [
    "# imports\n",
    "from bokeh.plotting import figure, show, output_file\n",
    "import pandas\n",
    "\n",
    "# prepare data\n",
    "\n",
    "data_frame= pandas.read_csv(\"bachelors.csv\");\n",
    "\n",
    "x=data_frame['Year']\n",
    "y=data_frame['Engineering']\n",
    "\n",
    "# prepare output file and line graph\n",
    "output_file('educationplot.html')\n",
    "\n",
    "f=figure()\n",
    "f.title.text=\"Plotting Education Data for Enginering Students\"\n",
    "f.xaxis.axis_label=\"Year\"\n",
    "f.yaxis.axis_label=\"Number of Students\"\n",
    "# create line graph\n",
    "f.line(x,y)\n",
    "\n",
    "#show graph\n",
    "show(f)"
   ]
  }
 ],
 "metadata": {
  "kernelspec": {
   "display_name": "Python 3.10.0 64-bit",
   "language": "python",
   "name": "python3"
  },
  "language_info": {
   "codemirror_mode": {
    "name": "ipython",
    "version": 3
   },
   "file_extension": ".py",
   "mimetype": "text/x-python",
   "name": "python",
   "nbconvert_exporter": "python",
   "pygments_lexer": "ipython3",
   "version": "3.10.0"
  },
  "orig_nbformat": 4,
  "vscode": {
   "interpreter": {
    "hash": "aee8b7b246df8f9039afb4144a1f6fd8d2ca17a180786b69acc140d282b71a49"
   }
  }
 },
 "nbformat": 4,
 "nbformat_minor": 2
}
