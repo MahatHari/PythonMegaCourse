{
 "cells": [
  {
   "cell_type": "code",
   "execution_count": 3,
   "metadata": {},
   "outputs": [],
   "source": [
    "# Starting with basic Bokeh line graph\n",
    "from bokeh.plotting import  figure\n",
    "from bokeh.io import output_file, show\n",
    "\n",
    "# prepare some data\n",
    "x = [1,3,5,7,9,11,13]\n",
    "y = [2,4,6,8,10,12,14]\n",
    "\n",
    "# prepare the output file\n",
    "output_file(\"line.html\")\n",
    "\n",
    "# create figure object\n",
    "f = figure()\n",
    "\n",
    "# create line plot \n",
    "f.line(x,y)\n",
    "\n",
    "show(f)"
   ]
  },
  {
   "cell_type": "code",
   "execution_count": 9,
   "metadata": {},
   "outputs": [],
   "source": [
    "# Circle graph\n",
    "# prepare data\n",
    "x=[1,2,3,4,5]\n",
    "y=[5,6,7,8,9]\n",
    "\n",
    "output_file(\"circle.html\")\n",
    "\n",
    "f=figure()\n",
    "f.circle(x,y, size=20)\n",
    "show(f)\n",
    "\n"
   ]
  },
  {
   "cell_type": "code",
   "execution_count": 11,
   "metadata": {},
   "outputs": [],
   "source": [
    "# Triangle \n",
    "\n",
    "x=[2,4,5]\n",
    "y=[3,4,5]\n",
    "\n",
    "output_file('triangle.html')\n",
    "\n",
    "f=figure()\n",
    "f.triangle(x, y, size=20)\n",
    "show(f)"
   ]
  }
 ],
 "metadata": {
  "kernelspec": {
   "display_name": "Python 3.10.0 64-bit",
   "language": "python",
   "name": "python3"
  },
  "language_info": {
   "codemirror_mode": {
    "name": "ipython",
    "version": 3
   },
   "file_extension": ".py",
   "mimetype": "text/x-python",
   "name": "python",
   "nbconvert_exporter": "python",
   "pygments_lexer": "ipython3",
   "version": "3.10.0"
  },
  "orig_nbformat": 4,
  "vscode": {
   "interpreter": {
    "hash": "aee8b7b246df8f9039afb4144a1f6fd8d2ca17a180786b69acc140d282b71a49"
   }
  }
 },
 "nbformat": 4,
 "nbformat_minor": 2
}
